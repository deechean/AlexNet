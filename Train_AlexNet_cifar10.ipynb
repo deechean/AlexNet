{
 "cells": [
  {
   "cell_type": "markdown",
   "metadata": {},
   "source": [
    "# Train a Simplifed AlexNet to classify CIFAR-10 data¶\n",
    "## Import python libs and setup FLAGS"
   ]
  },
  {
   "cell_type": "code",
   "execution_count": 1,
   "metadata": {},
   "outputs": [
    {
     "name": "stdout",
     "output_type": "stream",
     "text": [
      "parameters are defined.\n"
     ]
    }
   ],
   "source": [
    "from cifar10 import cifar10\n",
    "import os\n",
    "import tensorflow as tf\n",
    "import tf_general as tfg\n",
    "import numpy as np\n",
    "from train_log import train_log\n",
    "\n",
    "FLAGS = tf.flags.FLAGS\n",
    "try:\n",
    "    tf.app.flags.DEFINE_string('f', '', 'kernel')\n",
    "    tf.flags.DEFINE_integer('epoch', 50000, 'epoch')\n",
    "    tf.flags.DEFINE_integer('batch_size', 128, 'batch size')\n",
    "    tf.flags.DEFINE_float('lr', 0.01, 'learning rate')\n",
    "    tf.flags.DEFINE_float('drop_rate', 0.3, 'drop out rate for drop lay')\n",
    "    tf.flags.DEFINE_boolean('augument', True, 'if image augument is applied') \n",
    "    tf.flags.DEFINE_integer('image_size', 225, 'image size')\n",
    "    tf.flags.DEFINE_integer('test_size', 512, 'test size')\n",
    "    #tf.flags.DEFINE_boolean('restore', False, 'restore from checkpoint and run test')\n",
    "    print('parameters are defined.')\n",
    "except:\n",
    "    print('parameters have been defined.')\n",
    "    \n",
    "CONTINUE = 0\n",
    "RUN = 1"
   ]
  },
  {
   "cell_type": "markdown",
   "metadata": {},
   "source": [
    "## Section 2. Generate Checkpoint dir and Log dir\n",
    "\n",
    "- Checkpoint dir is saved in variable **../Le-Net5-Log/Le-Net5_CLASS/ckpt_RUN**, if the dir doesn't exist then create it. \n",
    "- Log file dir is saved in variable **../Le-Net5-Log/Le-Net5_CLASS/log_RUN**, if the dir doesn't exist then create it. \n",
    "- data_path is the position of the CIFAR-10 image data\n",
    "The reason to save the model and log outside the project is to avoid effect the git code management."
   ]
  },
  {
   "cell_type": "code",
   "execution_count": 2,
   "metadata": {},
   "outputs": [],
   "source": [
    "ckpt_dir = '../AlexNet-Log/AlexNet_CLASS/ckpt_'+str(RUN)+'/'\n",
    "if not os.path.exists(ckpt_dir):\n",
    "    os.makedirs(ckpt_dir)\n",
    "\n",
    "log_dir = '../AlexNet-Log/AlexNet_CLASS/log_'+str(RUN)+'/'\n",
    "log = train_log(log_dir)\n",
    "if not os.path.exists(log_dir):\n",
    "    os.makedirs(log_dir)\n",
    "\n",
    "data_path = '../cifar-10-batches-py/'\n",
    "if not os.path.exists(data_path):\n",
    "    print('The data path doesn\\'t exist. Please check if it is a correct data path.')"
   ]
  },
  {
   "cell_type": "code",
   "execution_count": 3,
   "metadata": {},
   "outputs": [],
   "source": [
    "class alexnet(object):\n",
    "\n",
    "    def __init__(self, x, n_class=10, rate=0):\n",
    "        self.input = x\n",
    "        self.n_class = n_class\n",
    "        self.drop_rate = rate\n",
    "        self._build_net()\n",
    "\n",
    "    def _build_net(self):\n",
    "        with tf.name_scope('norm_1'):    \n",
    "            self.x_norm1 = tfg.local_response_norm(self.input, depth_radius=4, bias=1.0, alpha=0.001/9, beta=0.75)\n",
    "            print('norm_1: ', self.x_norm1.get_shape())\n",
    "        \n",
    "        with tf.name_scope('conv_1'):\n",
    "            self.conv1 = tfg.conv2d(self.input, 11, 4, 96, 'conv_1', 'VALID','RELU')\n",
    "            print('conv_1: ', self.conv1.get_shape())\n",
    "        \n",
    "        with tf.name_scope('lrn_1'):\n",
    "            self.lrn1 = tfg.local_response_norm(self.conv1,depth_radius=4, \n",
    "                                                bias=1.0, alpha=0.001/9, beta=0.75)\n",
    "            print('lrn_1: ', self.lrn1.get_shape())\n",
    "            \n",
    "        with tf.name_scope('pool_1'):\n",
    "            self.pool1 = tfg.max_pool(self.lrn1, 3, 2, 'pool1', 'VALID')\n",
    "            print('pool_1: ', self.pool1.get_shape())\n",
    "            \n",
    "        with tf.name_scope('conv_2'):\n",
    "            self.conv2 = tfg.conv2d(self.pool1, 5, 1, 256, 'conv_2', 'SAME','RELU')\n",
    "            print('conv_2: ', self.conv2.get_shape())\n",
    "        \n",
    "        with tf.name_scope('lrn_2'):\n",
    "            self.lrn2 = tfg.local_response_norm(self.conv2,depth_radius=4, \n",
    "                                                bias=1.0, alpha=0.001/9, beta=0.75)\n",
    "            print('lrn_2: ', self.lrn2.get_shape())\n",
    "            \n",
    "        with tf.name_scope('pool_2'):\n",
    "            self.pool2 = tfg.avg_pool(self.lrn2, 3, 2, 'pool2', 'VALID')\n",
    "            print('pool_2: ', self.pool2.get_shape())\n",
    "            \n",
    "        with tf.name_scope('conv_3'):\n",
    "            self.conv3 = tfg.conv2d(self.pool2, 3, 1, 384, 'conv_3', 'SAME','RELU')\n",
    "            print('conv_3: ', self.conv3.get_shape())\n",
    "\n",
    "        with tf.name_scope('conv_4'):\n",
    "            self.conv4 = tfg.conv2d(self.conv3, 3, 1, 256, 'conv_4', 'SAME', 'RELU')\n",
    "            print('conv_4: ', self.conv4.get_shape())\n",
    "        \n",
    "        with tf.name_scope('conv_5'):\n",
    "            self.conv5 = tfg.conv2d(self.conv4, 3, 1, 256, 'conv_5', 'SAME','RELU')\n",
    "            print('conv_5: ', self.conv5.get_shape())\n",
    "            \n",
    "        with tf.name_scope('pool_3'):\n",
    "            self.pool3 = tfg.max_pool(self.conv5, 3, 2, 'pool3', 'VALID')\n",
    "            print('pool_3: ', self.pool3.get_shape())\n",
    "            \n",
    "        with tf.name_scope('flat_1'):\n",
    "            self.flat1, self.flat_dim = tfg.flatten(self.pool3)\n",
    "            print('flat_1: ', self.flat1.get_shape())         \n",
    "\n",
    "        with tf.name_scope('fc_1'):\n",
    "            self.fc1 = tfg.fc_layer(self.flat1, self.flat_dim, 4096, 'fc_1','RELU')\n",
    "            print('fc_1: ', self.fc1.get_shape())\n",
    "\n",
    "        with tf.name_scope('fc_2'):\n",
    "            self.fc2 = tfg.fc_layer(self.fc1, 4096, 4096, 'fc_2','RELU')\n",
    "            print('fc_2: ', self.fc2.get_shape())\n",
    "        \n",
    "        with tf.name_scope('fc_3'):\n",
    "            self.fc3 = tfg.fc_layer(self.fc2, 4096, 10, 'fc_3','RELU')\n",
    "            print('fc_3: ', self.fc3.get_shape())\n",
    "            \n",
    "        with tf.name_scope('drop_out_1'):\n",
    "            self.drop1 = tfg.drop_out(self.fc3, self.drop_rate, 'drop_out_1')\n",
    "            self.logits = self.drop1\n",
    "            print('drop_out_1: ', self.drop1.get_shape())\n",
    "\n",
    "        with tf.name_scope('prediction'):\n",
    "            self.prediction = tf.nn.softmax(self.drop1)\n",
    "            print('prediction: ', self.prediction.get_shape())"
   ]
  },
  {
   "cell_type": "markdown",
   "metadata": {},
   "source": [
    "## define input layer"
   ]
  },
  {
   "cell_type": "code",
   "execution_count": 4,
   "metadata": {},
   "outputs": [],
   "source": [
    "with tf.name_scope('input'):\n",
    "    x = tf.placeholder(tf.float32, [None, 225,225,3], name='input_image')\n",
    "    drop_rate = tf.placeholder(tf.float32, name='drop_rate')\n",
    "    global_step = tf.placeholder(tf.int32, name='global_step')\n",
    "    y_ = tf.placeholder(tf.int64, [None], name='labels')"
   ]
  },
  {
   "cell_type": "markdown",
   "metadata": {},
   "source": [
    "## define alexnet object "
   ]
  },
  {
   "cell_type": "code",
   "execution_count": 5,
   "metadata": {},
   "outputs": [
    {
     "name": "stdout",
     "output_type": "stream",
     "text": [
      "norm_1:  (?, 225, 225, 3)\n",
      "conv_1:  (?, 54, 54, 96)\n",
      "lrn_1:  (?, 54, 54, 96)\n",
      "pool_1:  (?, 26, 26, 96)\n",
      "conv_2:  (?, 26, 26, 256)\n",
      "lrn_2:  (?, 26, 26, 256)\n",
      "pool_2:  (?, 12, 12, 256)\n",
      "conv_3:  (?, 12, 12, 384)\n",
      "conv_4:  (?, 12, 12, 256)\n",
      "conv_5:  (?, 12, 12, 256)\n",
      "pool_3:  (?, 5, 5, 256)\n",
      "flat_1:  (?, 6400)\n",
      "fc_1:  (?, 4096)\n",
      "fc_2:  (?, 4096)\n",
      "fc_3:  (?, 10)\n",
      "drop_out_1:  (?, 10)\n",
      "prediction:  (?, 10)\n"
     ]
    }
   ],
   "source": [
    "with tf.name_scope('prediction'):\n",
    "    alex_net = alexnet(x, drop_rate)\n",
    "    y = alex_net.prediction"
   ]
  },
  {
   "cell_type": "markdown",
   "metadata": {},
   "source": [
    "## Use cross entropy as loss"
   ]
  },
  {
   "cell_type": "code",
   "execution_count": 6,
   "metadata": {},
   "outputs": [],
   "source": [
    "with tf.name_scope('cross_entropy'):\n",
    "        cross_entropy = tf.reduce_mean(tf.nn.sparse_softmax_cross_entropy_with_logits(logits=y,\n",
    "                                                                              labels=y_, \n",
    "                                                                              name=\"cross_entropy_per_example\"))"
   ]
  },
  {
   "cell_type": "markdown",
   "metadata": {},
   "source": [
    "## Use optimizer to optimize parameters"
   ]
  },
  {
   "cell_type": "code",
   "execution_count": 7,
   "metadata": {},
   "outputs": [],
   "source": [
    "with tf.name_scope('train_step'):\n",
    "    train_step = tf.train.AdagradOptimizer(FLAGS.lr).minimize(cross_entropy)"
   ]
  },
  {
   "cell_type": "markdown",
   "metadata": {},
   "source": [
    "## Calculate training accuracy"
   ]
  },
  {
   "cell_type": "code",
   "execution_count": 8,
   "metadata": {},
   "outputs": [],
   "source": [
    "with tf.name_scope('train_accuracy'):\n",
    "    prediction =tf.argmax(y, 1)\n",
    "    accuracy = tf.reduce_mean(tf.cast( tf.equal(prediction,y_), tf.float32))"
   ]
  },
  {
   "cell_type": "markdown",
   "metadata": {},
   "source": [
    "## Start session to run the training"
   ]
  },
  {
   "cell_type": "code",
   "execution_count": 9,
   "metadata": {
    "scrolled": false
   },
   "outputs": [
    {
     "name": "stdout",
     "output_type": "stream",
     "text": [
      "train set length: 50000\n",
      "test set length: 10000\n",
      ".........................................................................................................................................................................................................................................................\n",
      "2019-06-19 17:20:44 iter 249, Test accuracy:9.71%\n",
      "."
     ]
    },
    {
     "ename": "AssertionError",
     "evalue": "Do not use tf.reset_default_graph() to clear nested graphs. If you need a cleared graph, exit the nesting and create a new graph.",
     "output_type": "error",
     "traceback": [
      "\u001b[0;31m---------------------------------------------------------------------------\u001b[0m",
      "\u001b[0;31mAssertionError\u001b[0m                            Traceback (most recent call last)",
      "\u001b[0;32m<ipython-input-9-00f3d5387601>\u001b[0m in \u001b[0;36m<module>\u001b[0;34m()\u001b[0m\n\u001b[1;32m     36\u001b[0m             \u001b[0mlog\u001b[0m\u001b[0;34m.\u001b[0m\u001b[0madd_log\u001b[0m\u001b[0;34m(\u001b[0m\u001b[0;34m'test_accuracy'\u001b[0m\u001b[0;34m,\u001b[0m\u001b[0mi\u001b[0m\u001b[0;34m,\u001b[0m \u001b[0maccuracy_rate\u001b[0m\u001b[0;34m)\u001b[0m\u001b[0;34m\u001b[0m\u001b[0m\n\u001b[1;32m     37\u001b[0m             \u001b[0mlog\u001b[0m\u001b[0;34m.\u001b[0m\u001b[0mSaveToFile\u001b[0m\u001b[0;34m(\u001b[0m\u001b[0;34m)\u001b[0m\u001b[0;34m\u001b[0m\u001b[0m\n\u001b[0;32m---> 38\u001b[0;31m     \u001b[0mtf\u001b[0m\u001b[0;34m.\u001b[0m\u001b[0mreset_default_graph\u001b[0m\u001b[0;34m(\u001b[0m\u001b[0;34m)\u001b[0m\u001b[0;34m\u001b[0m\u001b[0m\n\u001b[0m",
      "\u001b[0;32m~/anaconda3/envs/python3-tensorflow/lib/python3.5/site-packages/tensorflow/python/framework/ops.py\u001b[0m in \u001b[0;36mreset_default_graph\u001b[0;34m()\u001b[0m\n\u001b[1;32m   5301\u001b[0m   \"\"\"\n\u001b[1;32m   5302\u001b[0m   \u001b[0;32mif\u001b[0m \u001b[0;32mnot\u001b[0m \u001b[0m_default_graph_stack\u001b[0m\u001b[0;34m.\u001b[0m\u001b[0mis_cleared\u001b[0m\u001b[0;34m(\u001b[0m\u001b[0;34m)\u001b[0m\u001b[0;34m:\u001b[0m\u001b[0;34m\u001b[0m\u001b[0m\n\u001b[0;32m-> 5303\u001b[0;31m     raise AssertionError(\"Do not use tf.reset_default_graph() to clear \"\n\u001b[0m\u001b[1;32m   5304\u001b[0m                          \u001b[0;34m\"nested graphs. If you need a cleared graph, \"\u001b[0m\u001b[0;34m\u001b[0m\u001b[0m\n\u001b[1;32m   5305\u001b[0m                          \"exit the nesting and create a new graph.\")\n",
      "\u001b[0;31mAssertionError\u001b[0m: Do not use tf.reset_default_graph() to clear nested graphs. If you need a cleared graph, exit the nesting and create a new graph."
     ]
    }
   ],
   "source": [
    "import time\n",
    "\n",
    "data = cifar10(data_path)\n",
    "saver = tf.train.Saver(max_to_keep = 1)\n",
    "\n",
    "with tf.Session(config=tf.ConfigProto(log_device_placement=True)) as sess:\n",
    "    sess.run(tf.global_variables_initializer())\n",
    "    saver = tf.train.Saver(max_to_keep=1)\n",
    "    if CONTINUE != 0:\n",
    "        model_file=tf.train.latest_checkpoint(ckpt_dir)\n",
    "        saver.restore(sess,model_file)\n",
    "    for i in range(CONTINUE, FLAGS.epoch):\n",
    "        train_image, train_label,_ = data.get_train_batch(FLAGS.batch_size,FLAGS.augument, \n",
    "                                                          new_size=(FLAGS.image_size,FLAGS.image_size), resize = True )\n",
    "        i += 1 \n",
    "        loss, _,accuracy_rate = sess.run([cross_entropy, train_step, accuracy], \n",
    "                                         feed_dict={drop_rate: FLAGS.drop_rate, x:train_image, y_:train_label})\n",
    "        print('.',end='')    \n",
    "        log.add_log('train_accuracy',i, accuracy_rate)\n",
    "        log.add_log('train_loss',i, loss)\n",
    "        if (i+1)%250 == 0 and i > 0:\n",
    "            saver.save(sess,ckpt_dir+'cifar10_'+str(i+1)+'.ckpt',global_step=i+1)\n",
    "            acc_accuracy = 0\n",
    "            for j in range(int(10000/FLAGS.test_size)):                    \n",
    "                test_image, test_label,test_index = data.get_test_batch(FLAGS.test_size,\n",
    "                                                                       new_size=(FLAGS.image_size,FLAGS.image_size), resize = True)\n",
    "                accuracy_rate, output = sess.run([accuracy,prediction],\n",
    "                                                 feed_dict={drop_rate: 0, x:test_image, y_:test_label})\n",
    "                acc_accuracy += accuracy_rate\n",
    "                log.add_log('test_index',i, test_index)\n",
    "                log.add_log('output',i, output)\n",
    "            accuracy_rate = acc_accuracy/10000*FLAGS.test_size\n",
    "            print()\n",
    "            print(time.strftime(\"%Y-%m-%d %H:%M:%S\", time.localtime()) + \n",
    "                      ' iter ' + str(i) + ', Test accuracy:' +str(round(accuracy_rate*100,2))+'%')\n",
    "            log.add_log('test_accuracy',i, accuracy_rate)\n",
    "            log.SaveToFile()\n",
    "    tf.reset_default_graph()"
   ]
  }
 ],
 "metadata": {
  "kernelspec": {
   "display_name": "Python 3",
   "language": "python",
   "name": "python3"
  },
  "language_info": {
   "codemirror_mode": {
    "name": "ipython",
    "version": 3
   },
   "file_extension": ".py",
   "mimetype": "text/x-python",
   "name": "python",
   "nbconvert_exporter": "python",
   "pygments_lexer": "ipython3",
   "version": "3.5.4"
  },
  "widgets": {
   "application/vnd.jupyter.widget-state+json": {
    "state": {},
    "version_major": 2,
    "version_minor": 0
   }
  }
 },
 "nbformat": 4,
 "nbformat_minor": 2
}
